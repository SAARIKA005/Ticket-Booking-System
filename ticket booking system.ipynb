{
  "nbformat": 4,
  "nbformat_minor": 0,
  "metadata": {
    "colab": {
      "name": "Untitled40.ipynb",
      "provenance": []
    },
    "kernelspec": {
      "name": "python3",
      "display_name": "Python 3"
    },
    "language_info": {
      "name": "python"
    }
  },
  "cells": [
    {
      "cell_type": "code",
      "source": [
        "print(\"\\n\\nTicket Booking System\\n\")\n",
        "restart = ('Y')\n",
        "\n",
        "while restart != ('N','NO','n','no'):\n",
        "\tprint(\"1.Check PNR status\")\n",
        "\tprint(\"2.Ticket Reservation\")\n",
        "\toption = int(input(\"\\nEnter your option : \"))\n",
        "\n",
        "\tif option == 1:\n",
        "\t\tprint(\"Your PNR status is t3\")\n",
        "\t\texit(0)\n",
        "\n",
        "\telif option == 2:\n",
        "\t\tpeople = int(input(\"\\nEnter no. of Ticket you want : \"))\n",
        "\t\tname_l = &#91;]\n",
        "\t\tage_l = &#91;]\n",
        "\t\tsex_l = &#91;]\n",
        "\t\tfor p in range(people):\n",
        "\t\t\tname = str(input(\"\\nName : \"))\n",
        "\t\t\tname_l.append(name)\n",
        "\t\t\tage  = int(input(\"\\nAge  : \"))\n",
        "\t\t\tage_l.append(age)\n",
        "\t\t\tsex  = str(input(\"\\nMale or Female : \"))\n",
        "\t\t\tsex_l.append(sex)\n",
        "\n",
        "\t\trestart = str(input(\"\\nDid you forgot someone? y/n: \"))\n",
        "\t\tif restart in ('y','YES','yes','Yes'):\n",
        "\t\t\trestart = ('Y')\n",
        "\t\telse :\n",
        "\t\t\tx = 0\n",
        "\t\t\tprint(\"\\nTotal Ticket : \",people)\n",
        "\t\t\tfor p in range(1,people+1):\n",
        "\t\t\t\tprint(\"Ticket : \",p)\n",
        "\t\t\t\tprint(\"Name : \", name_l&#91;x])\n",
        "\t\t\t\tprint(\"Age  : \", age_l&#91;x])\n",
        "\t\t\t\tprint(\"Sex : \",sex_l&#91;x])\n",
        "\t\t\t\tx += 1\n"
      ],
      "metadata": {
        "id": "LIMTZxufOu5r"
      },
      "execution_count": null,
      "outputs": []
    }
  ]
}